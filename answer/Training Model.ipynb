{
 "cells": [
  {
   "cell_type": "code",
   "execution_count": null,
   "metadata": {
    "collapsed": true
   },
   "outputs": [],
   "source": [
    "#00_firstModel.py"
   ]
  },
  {
   "cell_type": "code",
   "execution_count": 1,
   "metadata": {
    "collapsed": false,
    "scrolled": true
   },
   "outputs": [
    {
     "name": "stderr",
     "output_type": "stream",
     "text": [
      "Using Theano backend.\n"
     ]
    },
    {
     "name": "stdout",
     "output_type": "stream",
     "text": [
      "Building a model whose loss function is categorical_crossentropy\n",
      "Result saved into 00_lossFuncSelection.png\n"
     ]
    }
   ],
   "source": [
    "#coding=utf-8\n",
    "''' Import theano and numpy '''\n",
    "import theano\n",
    "import numpy as np\n",
    "execfile('00_readingInput.py')\n",
    "\n",
    "''' Import keras to build a DL model '''\n",
    "from keras.models import Sequential\n",
    "from keras.layers.core import Dense, Dropout, Activation\n",
    "\n",
    "print 'Building a model whose loss function is categorical_crossentropy'\n",
    "''' For categorical_crossentropy '''\n",
    "model_ce = Sequential()\n",
    "model_ce.add(Dense(128, input_dim=200))\n",
    "model_ce.add(Activation('sigmoid'))\n",
    "model_ce.add(Dense(256))\n",
    "model_ce.add(Activation('sigmoid'))\n",
    "model_ce.add(Dense(5))\n",
    "model_ce.add(Activation('softmax'))\n",
    "\n",
    "''' Set up the optimizer '''\n",
    "from keras.optimizers import SGD, Adam, RMSprop, Adagrad\n",
    "sgd = SGD(lr=0.01,momentum=0.0,decay=0.0,nesterov=False)\n",
    "\n",
    "''' Compile model with specified loss and optimizer '''\n",
    "model_ce.compile(loss='categorical_crossentropy',\n",
    "\t\t\t\toptimizer=sgd,\n",
    "\t\t\t\tmetrics=['accuracy'])\n",
    "\n",
    "''' set the size of mini-batch and number of epochs'''\n",
    "batch_size = 16\n",
    "nb_epoch = 30\n",
    "\n",
    "'''Fit models and use validation_split=0.1 '''\n",
    "history_ce = model_ce.fit(X_train, Y_train,\n",
    "\t\t\t\t\t\t\tbatch_size=batch_size,\n",
    "\t\t\t\t\t\t\tnb_epoch=nb_epoch,\n",
    "\t\t\t\t\t\t\tverbose=0,\n",
    "\t\t\t\t\t\t\tshuffle=True,\n",
    "                    \t\tvalidation_split=0.1)\n",
    "\n",
    "'''Access the loss and accuracy in every epoch'''\n",
    "loss_ce\t= history_ce.history.get('loss')\n",
    "acc_ce \t= history_ce.history.get('acc')\n",
    "\n",
    "''' Visualize the loss and accuracy of both models'''\n",
    "import matplotlib.pyplot as plt\n",
    "plt.figure(0)\n",
    "plt.subplot(121)\n",
    "plt.plot(range(len(loss_ce)), loss_ce,label='CE')\n",
    "plt.title('Loss')\n",
    "plt.legend(loc='upper left')\n",
    "plt.subplot(122)\n",
    "plt.plot(range(len(acc_ce)), acc_ce,label='CE')\n",
    "plt.title('Accuracy')\n",
    "plt.savefig('00_firstModel.png',dpi=300,format='png')\n",
    "plt.close()\n",
    "print 'Result saved into 00_lossFuncSelection.png'\n"
   ]
  },
  {
   "cell_type": "code",
   "execution_count": 2,
   "metadata": {
    "collapsed": true
   },
   "outputs": [],
   "source": [
    "import numpy as np\n",
    "np.random.seed(1337)\n",
    "\n",
    "''' Read input files '''\n",
    "my_data = np.genfromtxt('pkgo_city66_class5_v1.csv', delimiter=',',skip_header=1)\n",
    "\n",
    "''' The first column to the 199th column is used as input features '''\n",
    "X_train = my_data[:,0:200]\n",
    "X_train = X_train.astype('float32')\n",
    "\n",
    "''' The 200-th column is the answer '''\n",
    "y_train = my_data[:,200]\n",
    "y_train = y_train.astype('int')\n",
    "\n",
    "''' Convert to one-hot encoding '''\n",
    "from keras.utils import np_utils\n",
    "Y_train = np_utils.to_categorical(y_train,5)\n",
    "\n",
    "''' Shuffle training data '''\n",
    "from sklearn.utils import shuffle\n",
    "X_train,Y_train = shuffle(X_train,Y_train,random_state=100)"
   ]
  },
  {
   "cell_type": "code",
   "execution_count": null,
   "metadata": {
    "collapsed": true
   },
   "outputs": [],
   "source": [
    "#我自己做的"
   ]
  },
  {
   "cell_type": "code",
   "execution_count": 7,
   "metadata": {
    "collapsed": false
   },
   "outputs": [
    {
     "name": "stdout",
     "output_type": "stream",
     "text": [
      "____________________________________________________________________________________________________\n",
      "Layer (type)                     Output Shape          Param #     Connected to                     \n",
      "====================================================================================================\n",
      "dense_16 (Dense)                 (None, 128)           25728       dense_input_6[0][0]              \n",
      "____________________________________________________________________________________________________\n",
      "activation_16 (Activation)       (None, 128)           0           dense_16[0][0]                   \n",
      "____________________________________________________________________________________________________\n",
      "dense_17 (Dense)                 (None, 256)           33024       activation_16[0][0]              \n",
      "____________________________________________________________________________________________________\n",
      "activation_17 (Activation)       (None, 256)           0           dense_17[0][0]                   \n",
      "____________________________________________________________________________________________________\n",
      "dense_18 (Dense)                 (None, 5)             1285        activation_17[0][0]              \n",
      "____________________________________________________________________________________________________\n",
      "activation_18 (Activation)       (None, 5)             0           dense_18[0][0]                   \n",
      "====================================================================================================\n",
      "Total params: 60,037\n",
      "Trainable params: 60,037\n",
      "Non-trainable params: 0\n",
      "____________________________________________________________________________________________________\n"
     ]
    }
   ],
   "source": [
    "\n",
    "# 宣告這是一個 Sequential 次序性的深度學習模型\n",
    "model = Sequential()\n",
    "# 加入第一層 hidden layer (128 neurons) 與指定 input 的維度\n",
    "model.add(Dense(128, input_dim=200))\n",
    "# 指定 activation function\n",
    "model.add(Activation('sigmoid'))\n",
    "# 加入第二層 hidden layer (256 neurons)\n",
    "model.add(Dense(256))\n",
    "model.add(Activation('sigmoid'))\n",
    "# 加入 output layer (5 neurons)\n",
    "model.add(Dense(5))\n",
    "model.add(Activation('softmax'))\n",
    "# 觀察 model summary\n",
    "model.summary()\n",
    "\n",
    "from keras.optimizers import SGD, Adam, RMSprop, Adagrad\n",
    "sgd = SGD(lr=0.01,momentum=0.0,decay=0.0,nesterov=False)\n",
    "\n",
    "model.compile(loss='categorical_crossentropy',optimizer='SGD')\n",
    "\n",
    "# 指定 batch_size, nb_epoch, validation 後，開始訓練模型!!!\n",
    "history = model.fit( X_train,\n",
    "Y_train,\n",
    "batch_size=16,\n",
    "verbose=0,\n",
    "nb_epoch=30,\n",
    "shuffle=True,\n",
    "validation_split=0.1)\n"
   ]
  },
  {
   "cell_type": "code",
   "execution_count": null,
   "metadata": {
    "collapsed": true
   },
   "outputs": [],
   "source": []
  }
 ],
 "metadata": {
  "anaconda-cloud": {},
  "kernelspec": {
   "display_name": "Python [default]",
   "language": "python",
   "name": "python2"
  },
  "language_info": {
   "codemirror_mode": {
    "name": "ipython",
    "version": 2
   },
   "file_extension": ".py",
   "mimetype": "text/x-python",
   "name": "python",
   "nbconvert_exporter": "python",
   "pygments_lexer": "ipython2",
   "version": "2.7.12"
  }
 },
 "nbformat": 4,
 "nbformat_minor": 1
}
